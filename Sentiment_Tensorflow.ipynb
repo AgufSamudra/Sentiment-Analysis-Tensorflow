{
 "cells": [
  {
   "cell_type": "markdown",
   "metadata": {},
   "source": [
    "# Clone Indonlu\n",
    "Kita akan mengcopy github dari indonlu untuk menggunakan dataset NLP. Jadi dengan `!git clone` kita menarik semua file yang berada di githubnya."
   ]
  },
  {
   "cell_type": "code",
   "execution_count": 1,
   "metadata": {},
   "outputs": [
    {
     "name": "stderr",
     "output_type": "stream",
     "text": [
      "fatal: destination path 'indonlu' already exists and is not an empty directory.\n"
     ]
    }
   ],
   "source": [
    "!git clone https://github.com/indobenchmark/indonlu"
   ]
  },
  {
   "cell_type": "markdown",
   "metadata": {},
   "source": [
    "# Import Library"
   ]
  },
  {
   "cell_type": "code",
   "execution_count": 2,
   "metadata": {},
   "outputs": [
    {
     "name": "stdout",
     "output_type": "stream",
     "text": [
      "Requirement already satisfied: nltk in c:\\users\\gufra\\documents\\project\\belajar\\anpr with opencv_easyocr\\env\\lib\\site-packages (3.7)\n",
      "Requirement already satisfied: joblib in c:\\users\\gufra\\documents\\project\\belajar\\anpr with opencv_easyocr\\env\\lib\\site-packages (from nltk) (1.1.0)\n",
      "Requirement already satisfied: tqdm in c:\\users\\gufra\\documents\\project\\belajar\\anpr with opencv_easyocr\\env\\lib\\site-packages (from nltk) (4.64.0)\n",
      "Requirement already satisfied: regex>=2021.8.3 in c:\\users\\gufra\\documents\\project\\belajar\\anpr with opencv_easyocr\\env\\lib\\site-packages (from nltk) (2022.4.24)\n",
      "Requirement already satisfied: click in c:\\users\\gufra\\documents\\project\\belajar\\anpr with opencv_easyocr\\env\\lib\\site-packages (from nltk) (8.1.3)\n",
      "Requirement already satisfied: colorama in c:\\users\\gufra\\documents\\project\\belajar\\anpr with opencv_easyocr\\env\\lib\\site-packages (from click->nltk) (0.4.4)\n"
     ]
    },
    {
     "name": "stderr",
     "output_type": "stream",
     "text": [
      "WARNING: You are using pip version 22.0.4; however, version 22.1 is available.\n",
      "You should consider upgrading via the 'C:\\Users\\gufra\\Documents\\Project\\Belajar\\ANPR with openCV_easyOCR\\env\\Scripts\\python.exe -m pip install --upgrade pip' command.\n",
      "[nltk_data] Downloading package stopwords to\n",
      "[nltk_data]     C:\\Users\\gufra\\AppData\\Roaming\\nltk_data...\n",
      "[nltk_data]   Package stopwords is already up-to-date!\n"
     ]
    },
    {
     "data": {
      "text/plain": [
       "True"
      ]
     },
     "execution_count": 2,
     "metadata": {},
     "output_type": "execute_result"
    }
   ],
   "source": [
    "import pandas as pd\n",
    "import numpy as np\n",
    "import matplotlib.pyplot as plt\n",
    "import tensorflow as tf\n",
    "from sklearn.model_selection import train_test_split\n",
    "from sklearn import preprocessing\n",
    "from tensorflow.keras.utils import to_categorical\n",
    "from tensorflow.keras.preprocessing.text import Tokenizer\n",
    "from tensorflow.keras.preprocessing.sequence import pad_sequences\n",
    "from tensorflow.keras.models import Sequential\n",
    "from tensorflow.keras.layers import Dense, Embedding, GlobalAveragePooling1D\n"
   ]
  },
  {
   "cell_type": "code",
   "execution_count": 3,
   "metadata": {},
   "outputs": [
    {
     "data": {
      "text/html": [
       "<div>\n",
       "<style scoped>\n",
       "    .dataframe tbody tr th:only-of-type {\n",
       "        vertical-align: middle;\n",
       "    }\n",
       "\n",
       "    .dataframe tbody tr th {\n",
       "        vertical-align: top;\n",
       "    }\n",
       "\n",
       "    .dataframe thead th {\n",
       "        text-align: right;\n",
       "    }\n",
       "</style>\n",
       "<table border=\"1\" class=\"dataframe\">\n",
       "  <thead>\n",
       "    <tr style=\"text-align: right;\">\n",
       "      <th></th>\n",
       "      <th>Teks</th>\n",
       "      <th>Target</th>\n",
       "    </tr>\n",
       "  </thead>\n",
       "  <tbody>\n",
       "    <tr>\n",
       "      <th>0</th>\n",
       "      <td>warung ini dimiliki oleh pengusaha pabrik tahu...</td>\n",
       "      <td>positive</td>\n",
       "    </tr>\n",
       "    <tr>\n",
       "      <th>1</th>\n",
       "      <td>mohon ulama lurus dan k212 mmbri hujjah partai...</td>\n",
       "      <td>neutral</td>\n",
       "    </tr>\n",
       "    <tr>\n",
       "      <th>2</th>\n",
       "      <td>lokasi strategis di jalan sumatera bandung . t...</td>\n",
       "      <td>positive</td>\n",
       "    </tr>\n",
       "    <tr>\n",
       "      <th>3</th>\n",
       "      <td>betapa bahagia nya diri ini saat unboxing pake...</td>\n",
       "      <td>positive</td>\n",
       "    </tr>\n",
       "    <tr>\n",
       "      <th>4</th>\n",
       "      <td>duh . jadi mahasiswa jangan sombong dong . kas...</td>\n",
       "      <td>negative</td>\n",
       "    </tr>\n",
       "  </tbody>\n",
       "</table>\n",
       "</div>"
      ],
      "text/plain": [
       "                                                Teks    Target\n",
       "0  warung ini dimiliki oleh pengusaha pabrik tahu...  positive\n",
       "1  mohon ulama lurus dan k212 mmbri hujjah partai...   neutral\n",
       "2  lokasi strategis di jalan sumatera bandung . t...  positive\n",
       "3  betapa bahagia nya diri ini saat unboxing pake...  positive\n",
       "4  duh . jadi mahasiswa jangan sombong dong . kas...  negative"
      ]
     },
     "execution_count": 3,
     "metadata": {},
     "output_type": "execute_result"
    }
   ],
   "source": [
    "data_train = pd.read_csv('indonlu/dataset/smsa_doc-sentiment-prosa/train_preprocess.tsv', sep='\\t', names=[\"Teks\", \"Target\"])\n",
    "data_train.head()"
   ]
  },
  {
   "cell_type": "markdown",
   "metadata": {},
   "source": [
    "Bisa di lihat di atas bahwa data kita memberikan nama kolom. Jadi kita punya 2 kolom yaitu `Teks` dan `Target`, data target mewakilkan apakah data teks tersebut Positif, Negatif, Netral."
   ]
  },
  {
   "cell_type": "markdown",
   "metadata": {},
   "source": [
    "# Labeling"
   ]
  },
  {
   "cell_type": "code",
   "execution_count": 4,
   "metadata": {},
   "outputs": [
    {
     "data": {
      "text/html": [
       "<div>\n",
       "<style scoped>\n",
       "    .dataframe tbody tr th:only-of-type {\n",
       "        vertical-align: middle;\n",
       "    }\n",
       "\n",
       "    .dataframe tbody tr th {\n",
       "        vertical-align: top;\n",
       "    }\n",
       "\n",
       "    .dataframe thead th {\n",
       "        text-align: right;\n",
       "    }\n",
       "</style>\n",
       "<table border=\"1\" class=\"dataframe\">\n",
       "  <thead>\n",
       "    <tr style=\"text-align: right;\">\n",
       "      <th></th>\n",
       "      <th>Teks</th>\n",
       "      <th>Target</th>\n",
       "    </tr>\n",
       "  </thead>\n",
       "  <tbody>\n",
       "    <tr>\n",
       "      <th>0</th>\n",
       "      <td>warung ini dimiliki oleh pengusaha pabrik tahu...</td>\n",
       "      <td>2</td>\n",
       "    </tr>\n",
       "    <tr>\n",
       "      <th>1</th>\n",
       "      <td>mohon ulama lurus dan k212 mmbri hujjah partai...</td>\n",
       "      <td>1</td>\n",
       "    </tr>\n",
       "    <tr>\n",
       "      <th>2</th>\n",
       "      <td>lokasi strategis di jalan sumatera bandung . t...</td>\n",
       "      <td>2</td>\n",
       "    </tr>\n",
       "    <tr>\n",
       "      <th>3</th>\n",
       "      <td>betapa bahagia nya diri ini saat unboxing pake...</td>\n",
       "      <td>2</td>\n",
       "    </tr>\n",
       "    <tr>\n",
       "      <th>4</th>\n",
       "      <td>duh . jadi mahasiswa jangan sombong dong . kas...</td>\n",
       "      <td>0</td>\n",
       "    </tr>\n",
       "  </tbody>\n",
       "</table>\n",
       "</div>"
      ],
      "text/plain": [
       "                                                Teks  Target\n",
       "0  warung ini dimiliki oleh pengusaha pabrik tahu...       2\n",
       "1  mohon ulama lurus dan k212 mmbri hujjah partai...       1\n",
       "2  lokasi strategis di jalan sumatera bandung . t...       2\n",
       "3  betapa bahagia nya diri ini saat unboxing pake...       2\n",
       "4  duh . jadi mahasiswa jangan sombong dong . kas...       0"
      ]
     },
     "execution_count": 4,
     "metadata": {},
     "output_type": "execute_result"
    }
   ],
   "source": [
    "# Labeling Label dataset\n",
    "label_encoder = preprocessing.LabelEncoder()\n",
    "data_train['Target'] = label_encoder.fit_transform(data_train['Target'])\n",
    "data_train.head()"
   ]
  },
  {
   "cell_type": "markdown",
   "metadata": {},
   "source": [
    "Setelah di sebelumnya Target betipa string, dengan kita labeling maka hasilnya akan berubah menjadi sebuah numeric. Tujuannya adalah agar mesin mengenali bahwa itu adalah data `Target` kita. \n",
    "\n",
    "* 0 = Negative\n",
    "* 1 = Neutrtal\n",
    "* 2 = Positive"
   ]
  },
  {
   "cell_type": "markdown",
   "metadata": {},
   "source": [
    "# Split Data into Training and Test set"
   ]
  },
  {
   "cell_type": "code",
   "execution_count": 5,
   "metadata": {},
   "outputs": [],
   "source": [
    "# # Split data into training and test sets\n",
    "sentence = data_train['Teks'].values\n",
    "target = data_train['Target'].values\n",
    "\n",
    "sentence_train, sentence_test, target_train, target_test = train_test_split(sentence, target, test_size=0.1, shuffle=True, random_state=42)"
   ]
  },
  {
   "cell_type": "markdown",
   "metadata": {},
   "source": [
    "# Change Label into Categorical\n",
    "Sebelumnya kita sudah melakukan labeling pada data `Target` namun itu tidaklah cukup. Faktanya data target kita berupa Categorical, sehingga kita akan menjadikannya numeric categorical. Tensorflow juga menyediakan fungtion agar kita mudah melakukannya, dengan `to_categorical` kita bisa dengan mudah menjadikan data target kita menjadi Categorical."
   ]
  },
  {
   "cell_type": "code",
   "execution_count": 6,
   "metadata": {},
   "outputs": [],
   "source": [
    "target_train = to_categorical(target_train, num_classes=3)\n",
    "target_test = to_categorical(target_test, num_classes=3)"
   ]
  },
  {
   "cell_type": "markdown",
   "metadata": {},
   "source": [
    "# Tokenize\n",
    "Sebelumnya kita tau bahwa mesin tidak bisa memproses text/string, oleh karena itu kita juga akan mengkonfersi setiap kata menjadi angka numerik. Salah satu caranya adalah dengan tokenisasi. Kita menggunakan tokenizer dari Tensorflow, untuk mengkonversikannya.\n",
    "\n",
    "Konsepnya adalah kita akan memisahkan sebuah kalimat menjadi kata dan mempresentasikan sebuah kata tersebut menjadi numerik, contoh.<br />\n",
    "\"I Love my mother\"  ==  [1, 2, 3, 4]\n",
    "* I = 1\n",
    "* Love = 2\n",
    "* my = 3\n",
    "* mother = 4\n",
    "\n",
    "Kita juga akan menfilter simbol-simbol yang dapat mengganggu pada saat training seperti `!\"#$%&()*+.,-/:;=?@[\\]^_{|}~` <br />\n",
    "Dan terakhir kita mengatasi kata-kata yang ambigu atau tidak mengerti apa artinya itu, dengan `<OOV>` kita merepresentasikan kata tersebut menjadi angka `1`, setelah ini kita akan melihatnya jadi langsung ajah.\n"
   ]
  },
  {
   "cell_type": "code",
   "execution_count": 7,
   "metadata": {},
   "outputs": [],
   "source": [
    "# Tokenize\n",
    "filt = '!\"#$%&()*+.,-/:;=?@[\\]^_`{|}~'\n",
    "tokenizer = Tokenizer(num_words=10000, oov_token=\"<OOV>\", filters=filt) # <OOV> untuk mengatasi kata yang tidak ada di vocab/tidak di ketahui\n",
    "tokenizer.fit_on_texts(sentence_train) # Sequences\n",
    "tokenizer.fit_on_texts(sentence_test) # Sequences"
   ]
  },
  {
   "cell_type": "markdown",
   "metadata": {},
   "source": [
    "# Sequens and Padding\n",
    "Sequense sebenarnya sudah kita lakukan pada code sebelumnya untuk melihat sequens (kalimat), oke tapi akan saya coba jelaskan.\n",
    "\n",
    "**Sequence**: Merupakan kumpulan larik angka dari beberapa kata.<br/>\n",
    "**Padding**: proses untuk membuat setiap kalimat pada teks memiliki panjang yang seragam.\n",
    "\n",
    "Contoh:\n",
    "\n",
    "=== **Sequence** ===\n",
    "\n",
    "\"Aku sayang ibu\" == [1, 2, 3]<br/>\n",
    "\"Aku sayang kakak\" == [1, 2, 4]<br/>\n",
    "\"Aku sayang ayah\" == [1, 2, 5]\n",
    "\n",
    "Larik angka tersebut di sebut dengan Sequence, jadi kita bisa simpulkan dengan bahasa kita sendiri bahwa sequence adalah larik angka dari beberapa kata yang sudah di tokenize.\n",
    "\n",
    "=== **Padding** ===\n",
    "\n",
    "\"Aku sayang ibu\" == [1, 2, 3]<br/>\n",
    "\"Aku sayang kakak\" == [1, 2, 4]<br/>\n",
    "\"Aku sayang paman dan bibi\" == [1, 2, 5, 6, 7]\n",
    "\n",
    "dengan padding kita akan menyelaraskan larik tersebut, bisa dengan menyamakan panjang larik dari larik terpanjang, atau kita bisa menentukannya sendiri. Contoh kita kali ini akan menyamakan panjang larik dari larik yang terpanjang, maka akan menjadi seperti ini.\n",
    "\n",
    "[1, 2, 3, 0, 0]<br/>\n",
    "[1, 2, 4, 0, 0]<br/>\n",
    "[1, 2, 5, 6, 7]\n",
    "\n",
    "Karena kedua larik di atas mengikuti larik terpanjang, maka agar sama panjang ditambahlah angka `0` di sana. kita juga bisa menentukan angka nol tersebut mau di taruh depan atau di belakang sama seperti contoh di atas."
   ]
  },
  {
   "cell_type": "code",
   "execution_count": 8,
   "metadata": {},
   "outputs": [],
   "source": [
    "# membuat Sequens\n",
    "train_sekuens = tokenizer.texts_to_sequences(sentence_train)\n",
    "test_sekuens = tokenizer.texts_to_sequences(sentence_test)\n",
    "\n",
    "# membuat padding\n",
    "train_padded = pad_sequences(train_sekuens, padding='post', truncating='post')\n",
    "test_padded = pad_sequences(test_sekuens, padding='post', truncating='post')"
   ]
  },
  {
   "cell_type": "markdown",
   "metadata": {},
   "source": [
    "# Modeling\n",
    "Kita akan menggunakan tensorflow untuk melakukan proses modeling, dengan memanfaatkan Sequential kita dengan mudah akan mengatur Embedding, dan layar Dense, kita juga menggunakan GlobalAverangePooling1D."
   ]
  },
  {
   "cell_type": "code",
   "execution_count": 9,
   "metadata": {},
   "outputs": [],
   "source": [
    "# membuat model\n",
    "model = Sequential([\n",
    "    tf.keras.layers.Embedding(10000, 150),\n",
    "    tf.keras.layers.GlobalAveragePooling1D(),\n",
    "    tf.keras.layers.Dense(10, activation='relu'),\n",
    "    tf.keras.layers.Dropout(0.2),\n",
    "    tf.keras.layers.Dense(3, activation='softmax')\n",
    "])"
   ]
  },
  {
   "cell_type": "code",
   "execution_count": 10,
   "metadata": {},
   "outputs": [],
   "source": [
    "# compile model\n",
    "model.compile(optimizer='RMSprop', \n",
    "            loss='categorical_crossentropy',\n",
    "            metrics=['accuracy'])"
   ]
  },
  {
   "cell_type": "code",
   "execution_count": 11,
   "metadata": {},
   "outputs": [
    {
     "name": "stdout",
     "output_type": "stream",
     "text": [
      "Model: \"sequential\"\n",
      "_________________________________________________________________\n",
      " Layer (type)                Output Shape              Param #   \n",
      "=================================================================\n",
      " embedding (Embedding)       (None, None, 150)         1500000   \n",
      "                                                                 \n",
      " global_average_pooling1d (G  (None, 150)              0         \n",
      " lobalAveragePooling1D)                                          \n",
      "                                                                 \n",
      " dense (Dense)               (None, 10)                1510      \n",
      "                                                                 \n",
      " dropout (Dropout)           (None, 10)                0         \n",
      "                                                                 \n",
      " dense_1 (Dense)             (None, 3)                 33        \n",
      "                                                                 \n",
      "=================================================================\n",
      "Total params: 1,501,543\n",
      "Trainable params: 1,501,543\n",
      "Non-trainable params: 0\n",
      "_________________________________________________________________\n"
     ]
    }
   ],
   "source": [
    "model.summary()"
   ]
  },
  {
   "cell_type": "markdown",
   "metadata": {},
   "source": [
    "Code di bawah adalah dimana proses training di mulai, kita menentukan epoch sebanyak `20`. Epoch adalah perulangan dalam proses latih, gampangnya seperti kita berlari 20 putaran di lapangan. Epoch 20 menurut saya sudah cukup bagus, karena sebelumnya saya sudah melatih lebih dari ini dan hasilnya tidak beda jauh, bahkan terkadang menjadi lebih buruk."
   ]
  },
  {
   "cell_type": "code",
   "execution_count": 12,
   "metadata": {},
   "outputs": [
    {
     "name": "stdout",
     "output_type": "stream",
     "text": [
      "Epoch 1/20\n",
      "310/310 [==============================] - 4s 11ms/step - loss: 0.8053 - accuracy: 0.6425 - val_loss: 0.6475 - val_accuracy: 0.7418\n",
      "Epoch 2/20\n",
      "310/310 [==============================] - 3s 10ms/step - loss: 0.6097 - accuracy: 0.7611 - val_loss: 0.5600 - val_accuracy: 0.7700\n",
      "Epoch 3/20\n",
      "310/310 [==============================] - 3s 10ms/step - loss: 0.5243 - accuracy: 0.7774 - val_loss: 0.5094 - val_accuracy: 0.7782\n",
      "Epoch 4/20\n",
      "310/310 [==============================] - 3s 10ms/step - loss: 0.4651 - accuracy: 0.8078 - val_loss: 0.4553 - val_accuracy: 0.8355\n",
      "Epoch 5/20\n",
      "310/310 [==============================] - 3s 11ms/step - loss: 0.4205 - accuracy: 0.8401 - val_loss: 0.4228 - val_accuracy: 0.8464\n",
      "Epoch 6/20\n",
      "310/310 [==============================] - 3s 11ms/step - loss: 0.3929 - accuracy: 0.8540 - val_loss: 0.4108 - val_accuracy: 0.8536\n",
      "Epoch 7/20\n",
      "310/310 [==============================] - 3s 11ms/step - loss: 0.3601 - accuracy: 0.8680 - val_loss: 0.3904 - val_accuracy: 0.8727\n",
      "Epoch 8/20\n",
      "310/310 [==============================] - 3s 11ms/step - loss: 0.3406 - accuracy: 0.8735 - val_loss: 0.3760 - val_accuracy: 0.8709\n",
      "Epoch 9/20\n",
      "310/310 [==============================] - 3s 11ms/step - loss: 0.3222 - accuracy: 0.8858 - val_loss: 0.3875 - val_accuracy: 0.8673\n",
      "Epoch 10/20\n",
      "310/310 [==============================] - 3s 11ms/step - loss: 0.3099 - accuracy: 0.8856 - val_loss: 0.3718 - val_accuracy: 0.8691\n",
      "Epoch 11/20\n",
      "310/310 [==============================] - 3s 11ms/step - loss: 0.2984 - accuracy: 0.8930 - val_loss: 0.3734 - val_accuracy: 0.8700\n",
      "Epoch 12/20\n",
      "310/310 [==============================] - 3s 11ms/step - loss: 0.2873 - accuracy: 0.8988 - val_loss: 0.3706 - val_accuracy: 0.8764\n",
      "Epoch 13/20\n",
      "310/310 [==============================] - 3s 10ms/step - loss: 0.2772 - accuracy: 0.8990 - val_loss: 0.3765 - val_accuracy: 0.8745\n",
      "Epoch 14/20\n",
      "310/310 [==============================] - 3s 11ms/step - loss: 0.2702 - accuracy: 0.9001 - val_loss: 0.3808 - val_accuracy: 0.8736\n",
      "Epoch 15/20\n",
      "310/310 [==============================] - 3s 11ms/step - loss: 0.2626 - accuracy: 0.9048 - val_loss: 0.3848 - val_accuracy: 0.8764\n",
      "Epoch 16/20\n",
      "310/310 [==============================] - 3s 10ms/step - loss: 0.2588 - accuracy: 0.9074 - val_loss: 0.3957 - val_accuracy: 0.8782\n",
      "Epoch 17/20\n",
      "310/310 [==============================] - 3s 10ms/step - loss: 0.2522 - accuracy: 0.9100 - val_loss: 0.3838 - val_accuracy: 0.8736\n",
      "Epoch 18/20\n",
      "310/310 [==============================] - 3s 10ms/step - loss: 0.2472 - accuracy: 0.9116 - val_loss: 0.4194 - val_accuracy: 0.8718\n",
      "Epoch 19/20\n",
      "310/310 [==============================] - 3s 10ms/step - loss: 0.2342 - accuracy: 0.9129 - val_loss: 0.4131 - val_accuracy: 0.8773\n",
      "Epoch 20/20\n",
      "310/310 [==============================] - 3s 11ms/step - loss: 0.2388 - accuracy: 0.9154 - val_loss: 0.4074 - val_accuracy: 0.8782\n"
     ]
    }
   ],
   "source": [
    "# Train model\n",
    "num_epochs = 20\n",
    "history = model.fit(train_padded, target_train,\n",
    "                    epochs=num_epochs,\n",
    "                    validation_data=(test_padded, target_test),\n",
    "                    verbose=1)"
   ]
  },
  {
   "cell_type": "markdown",
   "metadata": {},
   "source": [
    "# Visualization of Training Results\n",
    "Tahap ini kita akan melihat hasil training kita dengan visualisasi agar mudah di pahami."
   ]
  },
  {
   "cell_type": "code",
   "execution_count": 16,
   "metadata": {},
   "outputs": [
    {
     "data": {
      "image/png": "[encoded data removed]",
      "text/plain": [
       "<Figure size 432x288 with 1 Axes>"
      ]
     },
     "metadata": {
      "needs_background": "light"
     },
     "output_type": "display_data"
    },
    {
     "data": {
      "image/png": "[encoded data removed]",
      "text/plain": [
       "<Figure size 432x288 with 1 Axes>"
      ]
     },
     "metadata": {
      "needs_background": "light"
     },
     "output_type": "display_data"
    }
   ],
   "source": [
    "# visualisasi training\n",
    "\n",
    "def plot_graphs(history, string):\n",
    "  plt.plot(history.history[string])\n",
    "  plt.plot(history.history['val_'+string])\n",
    "  plt.xlabel(\"Epochs\")\n",
    "  plt.ylabel(string)\n",
    "  plt.legend([string, 'val_'+string])\n",
    "  plt.show()\n",
    "  \n",
    "plot_graphs(history, \"accuracy\")\n",
    "plot_graphs(history, \"loss\")"
   ]
  },
  {
   "cell_type": "markdown",
   "metadata": {},
   "source": [
    "# Save Model"
   ]
  },
  {
   "cell_type": "code",
   "execution_count": 13,
   "metadata": {},
   "outputs": [
    {
     "name": "stdout",
     "output_type": "stream",
     "text": [
      "INFO:tensorflow:Assets written to: model\\assets\n"
     ]
    }
   ],
   "source": [
    "model.save(\"model\")"
   ]
  },
  {
   "cell_type": "markdown",
   "metadata": {},
   "source": [
    "# Load Model"
   ]
  },
  {
   "cell_type": "code",
   "execution_count": 14,
   "metadata": {},
   "outputs": [
    {
     "name": "stdout",
     "output_type": "stream",
     "text": [
      "Model: \"sequential\"\n",
      "_________________________________________________________________\n",
      " Layer (type)                Output Shape              Param #   \n",
      "=================================================================\n",
      " embedding (Embedding)       (None, None, 150)         1500000   \n",
      "                                                                 \n",
      " global_average_pooling1d (G  (None, 150)              0         \n",
      " lobalAveragePooling1D)                                          \n",
      "                                                                 \n",
      " dense (Dense)               (None, 10)                1510      \n",
      "                                                                 \n",
      " dropout (Dropout)           (None, 10)                0         \n",
      "                                                                 \n",
      " dense_1 (Dense)             (None, 3)                 33        \n",
      "                                                                 \n",
      "=================================================================\n",
      "Total params: 1,501,543\n",
      "Trainable params: 1,501,543\n",
      "Non-trainable params: 0\n",
      "_________________________________________________________________\n"
     ]
    }
   ],
   "source": [
    "new_model = tf.keras.models.load_model('model')\n",
    "new_model.summary()"
   ]
  },
  {
   "cell_type": "markdown",
   "metadata": {},
   "source": [
    "# Testing Model\n",
    "* [1, 0, 0] = Negative\n",
    "* [0, 1, 0] = Neutrral\n",
    "* [0, 0, 1] = Positve\n",
    "\n",
    "Di atas adalah representasi label kita setelah di lakukan `to_categorical`, kita akan mencoba dengan kalimat yang kita buat sendiri, apakah kalimat tersebut Positive, Negatif, Neutral."
   ]
  },
  {
   "cell_type": "code",
   "execution_count": 20,
   "metadata": {},
   "outputs": [
    {
     "name": "stdout",
     "output_type": "stream",
     "text": [
      "[[1. 0. 0.]\n",
      " [0. 0. 1.]\n",
      " [0. 1. 0.]]\n"
     ]
    }
   ],
   "source": [
    "# Testing Model\n",
    "teks = [\"awalnya aku menyukainya, namun setelah kesini aku rasa dia bukan orang yang asik\",\n",
    "        \"Aku rasa dia orang yang hebat, dia bisa menciptakan apa yang orang lain tidak bisa. Keren.\",\n",
    "        \"Mohon di luruskan dan di rapatkan barisan nya.\"]\n",
    "teks_token = tokenizer.texts_to_sequences(teks)\n",
    "teks_padded = pad_sequences(teks_token, maxlen=100, padding='post', truncating='post')\n",
    "print(np.rint(new_model.predict(teks_padded)))"
   ]
  },
  {
   "cell_type": "markdown",
   "metadata": {},
   "source": [
    "Dari hasil di atas kita bisa simpulkan bahwa,<br/>\n",
    "* \"awalnya aku menyukainya, namun setelah kesini aku rasa dia bukan orang yang asik\" = **Negative**\n",
    "* \"Aku rasa dia orang yang hebat, dia bisa menciptakan apa yang orang lain tidak bisa. Keren.\" = **Positive**\n",
    "* \"Mohon di luruskan dan di rapatkan barisan nya.\" = **Neutral**\n",
    "\n",
    "Jadi kita telah berhasil dan selesai membuat Sentiment Analysis menggunakan Tensorflow, di bantu dengan dataset dari indonlu."
   ]
  },
  {
   "cell_type": "code",
   "execution_count": null,
   "metadata": {},
   "outputs": [],
   "source": []
  }
 ],
 "metadata": {
  "kernelspec": {
   "display_name": "env",
   "language": "python",
   "name": "env"
  },
  "language_info": {
   "codemirror_mode": {
    "name": "ipython",
    "version": 3
   },
   "file_extension": ".py",
   "mimetype": "text/x-python",
   "name": "python",
   "nbconvert_exporter": "python",
   "pygments_lexer": "ipython3",
   "version": "3.10.2"
  },
  "orig_nbformat": 4
 },
 "nbformat": 4,
 "nbformat_minor": 2
}
